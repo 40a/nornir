{
 "cells": [
  {
   "cell_type": "code",
   "execution_count": 1,
   "metadata": {},
   "outputs": [],
   "source": [
    "# ignore this cell, this is just a helper cell to provide the magic %highlight_file\n",
    "%run ../highlighter.py"
   ]
  },
  {
   "cell_type": "markdown",
   "metadata": {},
   "source": [
    "# Rollback\n",
    "\n",
    "## Code"
   ]
  },
  {
   "cell_type": "code",
   "execution_count": 2,
   "metadata": {},
   "outputs": [
    {
     "data": {
      "text/html": [
       "<style>\n",
       ".pygments .hll { background-color: #ffffcc }\n",
       ".pygments  { background: #f8f8f8; }\n",
       ".pygments .c { color: #408080; font-style: italic } /* Comment */\n",
       ".pygments .err { border: 1px solid #FF0000 } /* Error */\n",
       ".pygments .k { color: #008000; font-weight: bold } /* Keyword */\n",
       ".pygments .o { color: #666666 } /* Operator */\n",
       ".pygments .ch { color: #408080; font-style: italic } /* Comment.Hashbang */\n",
       ".pygments .cm { color: #408080; font-style: italic } /* Comment.Multiline */\n",
       ".pygments .cp { color: #BC7A00 } /* Comment.Preproc */\n",
       ".pygments .cpf { color: #408080; font-style: italic } /* Comment.PreprocFile */\n",
       ".pygments .c1 { color: #408080; font-style: italic } /* Comment.Single */\n",
       ".pygments .cs { color: #408080; font-style: italic } /* Comment.Special */\n",
       ".pygments .gd { color: #A00000 } /* Generic.Deleted */\n",
       ".pygments .ge { font-style: italic } /* Generic.Emph */\n",
       ".pygments .gr { color: #FF0000 } /* Generic.Error */\n",
       ".pygments .gh { color: #000080; font-weight: bold } /* Generic.Heading */\n",
       ".pygments .gi { color: #00A000 } /* Generic.Inserted */\n",
       ".pygments .go { color: #888888 } /* Generic.Output */\n",
       ".pygments .gp { color: #000080; font-weight: bold } /* Generic.Prompt */\n",
       ".pygments .gs { font-weight: bold } /* Generic.Strong */\n",
       ".pygments .gu { color: #800080; font-weight: bold } /* Generic.Subheading */\n",
       ".pygments .gt { color: #0044DD } /* Generic.Traceback */\n",
       ".pygments .kc { color: #008000; font-weight: bold } /* Keyword.Constant */\n",
       ".pygments .kd { color: #008000; font-weight: bold } /* Keyword.Declaration */\n",
       ".pygments .kn { color: #008000; font-weight: bold } /* Keyword.Namespace */\n",
       ".pygments .kp { color: #008000 } /* Keyword.Pseudo */\n",
       ".pygments .kr { color: #008000; font-weight: bold } /* Keyword.Reserved */\n",
       ".pygments .kt { color: #B00040 } /* Keyword.Type */\n",
       ".pygments .m { color: #666666 } /* Literal.Number */\n",
       ".pygments .s { color: #BA2121 } /* Literal.String */\n",
       ".pygments .na { color: #7D9029 } /* Name.Attribute */\n",
       ".pygments .nb { color: #008000 } /* Name.Builtin */\n",
       ".pygments .nc { color: #0000FF; font-weight: bold } /* Name.Class */\n",
       ".pygments .no { color: #880000 } /* Name.Constant */\n",
       ".pygments .nd { color: #AA22FF } /* Name.Decorator */\n",
       ".pygments .ni { color: #999999; font-weight: bold } /* Name.Entity */\n",
       ".pygments .ne { color: #D2413A; font-weight: bold } /* Name.Exception */\n",
       ".pygments .nf { color: #0000FF } /* Name.Function */\n",
       ".pygments .nl { color: #A0A000 } /* Name.Label */\n",
       ".pygments .nn { color: #0000FF; font-weight: bold } /* Name.Namespace */\n",
       ".pygments .nt { color: #008000; font-weight: bold } /* Name.Tag */\n",
       ".pygments .nv { color: #19177C } /* Name.Variable */\n",
       ".pygments .ow { color: #AA22FF; font-weight: bold } /* Operator.Word */\n",
       ".pygments .w { color: #bbbbbb } /* Text.Whitespace */\n",
       ".pygments .mb { color: #666666 } /* Literal.Number.Bin */\n",
       ".pygments .mf { color: #666666 } /* Literal.Number.Float */\n",
       ".pygments .mh { color: #666666 } /* Literal.Number.Hex */\n",
       ".pygments .mi { color: #666666 } /* Literal.Number.Integer */\n",
       ".pygments .mo { color: #666666 } /* Literal.Number.Oct */\n",
       ".pygments .sa { color: #BA2121 } /* Literal.String.Affix */\n",
       ".pygments .sb { color: #BA2121 } /* Literal.String.Backtick */\n",
       ".pygments .sc { color: #BA2121 } /* Literal.String.Char */\n",
       ".pygments .dl { color: #BA2121 } /* Literal.String.Delimiter */\n",
       ".pygments .sd { color: #BA2121; font-style: italic } /* Literal.String.Doc */\n",
       ".pygments .s2 { color: #BA2121 } /* Literal.String.Double */\n",
       ".pygments .se { color: #BB6622; font-weight: bold } /* Literal.String.Escape */\n",
       ".pygments .sh { color: #BA2121 } /* Literal.String.Heredoc */\n",
       ".pygments .si { color: #BB6688; font-weight: bold } /* Literal.String.Interpol */\n",
       ".pygments .sx { color: #008000 } /* Literal.String.Other */\n",
       ".pygments .sr { color: #BB6688 } /* Literal.String.Regex */\n",
       ".pygments .s1 { color: #BA2121 } /* Literal.String.Single */\n",
       ".pygments .ss { color: #19177C } /* Literal.String.Symbol */\n",
       ".pygments .bp { color: #008000 } /* Name.Builtin.Pseudo */\n",
       ".pygments .fm { color: #0000FF } /* Name.Function.Magic */\n",
       ".pygments .vc { color: #19177C } /* Name.Variable.Class */\n",
       ".pygments .vg { color: #19177C } /* Name.Variable.Global */\n",
       ".pygments .vi { color: #19177C } /* Name.Variable.Instance */\n",
       ".pygments .vm { color: #19177C } /* Name.Variable.Magic */\n",
       ".pygments .il { color: #666666 } /* Literal.Number.Integer.Long */\n",
       "</style>\n",
       "<div class=\"pygments\"><pre><span></span><span class=\"lineno\"> 1 </span><span class=\"ch\">#!/usr/bin/env python</span>\n",
       "<span class=\"lineno\"> 2 </span><span class=\"sd\">&quot;&quot;&quot;</span>\n",
       "<span class=\"lineno\"> 3 </span><span class=\"sd\">Tool to rollback configuration from a saved configuration</span>\n",
       "<span class=\"lineno\"> 4 </span><span class=\"sd\">&quot;&quot;&quot;</span>\n",
       "<span class=\"lineno\"> 5 </span><span class=\"kn\">from</span> <span class=\"nn\">brigade.easy</span> <span class=\"k\">import</span> <span class=\"n\">easy_brigade</span>\n",
       "<span class=\"lineno\"> 6 </span><span class=\"kn\">from</span> <span class=\"nn\">brigade.plugins.tasks</span> <span class=\"k\">import</span> <span class=\"n\">networking</span><span class=\"p\">,</span> <span class=\"n\">text</span>\n",
       "<span class=\"lineno\"> 7 </span>\n",
       "<span class=\"lineno\"> 8 </span><span class=\"kn\">import</span> <span class=\"nn\">click</span>\n",
       "<span class=\"lineno\"> 9 </span>\n",
       "<span class=\"lineno\">10 </span>\n",
       "<span class=\"lineno\">11 </span><span class=\"k\">def</span> <span class=\"nf\">rollback</span><span class=\"p\">(</span><span class=\"n\">task</span><span class=\"p\">,</span> <span class=\"n\">path</span><span class=\"p\">):</span>\n",
       "<span class=\"lineno\">12 </span>    <span class=\"sd\">&quot;&quot;&quot;</span>\n",
       "<span class=\"lineno\">13 </span><span class=\"sd\">    This function loads the backup from ./$path/$hostname and</span>\n",
       "<span class=\"lineno\">14 </span><span class=\"sd\">    deploys it.</span>\n",
       "<span class=\"lineno\">15 </span><span class=\"sd\">    &quot;&quot;&quot;</span>\n",
       "<span class=\"lineno\">16 </span>    <span class=\"n\">task</span><span class=\"o\">.</span><span class=\"n\">run</span><span class=\"p\">(</span><span class=\"n\">networking</span><span class=\"o\">.</span><span class=\"n\">napalm_configure</span><span class=\"p\">,</span>\n",
       "<span class=\"lineno\">17 </span>             <span class=\"n\">name</span><span class=\"o\">=</span><span class=\"s2\">&quot;Loading Configuration on the device&quot;</span><span class=\"p\">,</span>\n",
       "<span class=\"lineno\">18 </span>             <span class=\"n\">replace</span><span class=\"o\">=</span><span class=\"kc\">True</span><span class=\"p\">,</span>\n",
       "<span class=\"lineno\">19 </span>             <span class=\"n\">filename</span><span class=\"o\">=</span><span class=\"s2\">&quot;</span><span class=\"si\">{}</span><span class=\"s2\">/</span><span class=\"si\">{}</span><span class=\"s2\">&quot;</span><span class=\"o\">.</span><span class=\"n\">format</span><span class=\"p\">(</span><span class=\"n\">path</span><span class=\"p\">,</span> <span class=\"n\">task</span><span class=\"o\">.</span><span class=\"n\">host</span><span class=\"p\">))</span>\n",
       "<span class=\"lineno\">20 </span>\n",
       "<span class=\"lineno\">21 </span>\n",
       "<span class=\"lineno\">22 </span><span class=\"nd\">@click</span><span class=\"o\">.</span><span class=\"n\">command</span><span class=\"p\">()</span>\n",
       "<span class=\"lineno\">23 </span><span class=\"nd\">@click</span><span class=\"o\">.</span><span class=\"n\">option</span><span class=\"p\">(</span><span class=\"s1\">&#39;--filter&#39;</span><span class=\"p\">,</span> <span class=\"s1\">&#39;-f&#39;</span><span class=\"p\">,</span> <span class=\"n\">multiple</span><span class=\"o\">=</span><span class=\"kc\">True</span><span class=\"p\">,</span>\n",
       "<span class=\"lineno\">24 </span>              <span class=\"n\">help</span><span class=\"o\">=</span><span class=\"s2\">&quot;k=v pairs to filter the devices&quot;</span><span class=\"p\">)</span>\n",
       "<span class=\"lineno\">25 </span><span class=\"nd\">@click</span><span class=\"o\">.</span><span class=\"n\">option</span><span class=\"p\">(</span><span class=\"s1\">&#39;--commit/--no-commit&#39;</span><span class=\"p\">,</span> <span class=\"s1\">&#39;-c&#39;</span><span class=\"p\">,</span> <span class=\"n\">default</span><span class=\"o\">=</span><span class=\"kc\">False</span><span class=\"p\">,</span>\n",
       "<span class=\"lineno\">26 </span>              <span class=\"n\">help</span><span class=\"o\">=</span><span class=\"s2\">&quot;whether you want to commit the changes or not&quot;</span><span class=\"p\">)</span>\n",
       "<span class=\"lineno\">27 </span><span class=\"nd\">@click</span><span class=\"o\">.</span><span class=\"n\">option</span><span class=\"p\">(</span><span class=\"s1\">&#39;--path&#39;</span><span class=\"p\">,</span> <span class=\"s1\">&#39;-p&#39;</span><span class=\"p\">,</span> <span class=\"n\">default</span><span class=\"o\">=</span><span class=\"s2\">&quot;.&quot;</span><span class=\"p\">,</span>\n",
       "<span class=\"lineno\">28 </span>              <span class=\"n\">help</span><span class=\"o\">=</span><span class=\"s2\">&quot;Where to save the backup files&quot;</span><span class=\"p\">)</span>\n",
       "<span class=\"lineno\">29 </span><span class=\"k\">def</span> <span class=\"nf\">main</span><span class=\"p\">(</span><span class=\"nb\">filter</span><span class=\"p\">,</span> <span class=\"n\">commit</span><span class=\"p\">,</span> <span class=\"n\">path</span><span class=\"p\">):</span>\n",
       "<span class=\"lineno\">30 </span>    <span class=\"n\">brg</span> <span class=\"o\">=</span> <span class=\"n\">easy_brigade</span><span class=\"p\">(</span>\n",
       "<span class=\"lineno\">31 </span>            <span class=\"n\">host_file</span><span class=\"o\">=</span><span class=\"s2\">&quot;../inventory/hosts.yaml&quot;</span><span class=\"p\">,</span>\n",
       "<span class=\"lineno\">32 </span>            <span class=\"n\">group_file</span><span class=\"o\">=</span><span class=\"s2\">&quot;../inventory/groups.yaml&quot;</span><span class=\"p\">,</span>\n",
       "<span class=\"lineno\">33 </span>            <span class=\"n\">dry_run</span><span class=\"o\">=</span><span class=\"ow\">not</span> <span class=\"n\">commit</span><span class=\"p\">,</span>\n",
       "<span class=\"lineno\">34 </span>            <span class=\"n\">raise_on_error</span><span class=\"o\">=</span><span class=\"kc\">True</span><span class=\"p\">,</span>\n",
       "<span class=\"lineno\">35 </span>    <span class=\"p\">)</span>\n",
       "<span class=\"lineno\">36 </span>\n",
       "<span class=\"lineno\">37 </span>    <span class=\"c1\"># filter is going to be a list of key=value so we clean that first</span>\n",
       "<span class=\"lineno\">38 </span>    <span class=\"n\">filter_dict</span> <span class=\"o\">=</span> <span class=\"p\">{</span><span class=\"s2\">&quot;type&quot;</span><span class=\"p\">:</span> <span class=\"s2\">&quot;network_device&quot;</span><span class=\"p\">}</span>\n",
       "<span class=\"lineno\">39 </span>    <span class=\"k\">for</span> <span class=\"n\">f</span> <span class=\"ow\">in</span> <span class=\"nb\">filter</span><span class=\"p\">:</span>\n",
       "<span class=\"lineno\">40 </span>        <span class=\"n\">k</span><span class=\"p\">,</span> <span class=\"n\">v</span> <span class=\"o\">=</span> <span class=\"n\">f</span><span class=\"o\">.</span><span class=\"n\">split</span><span class=\"p\">(</span><span class=\"s2\">&quot;=&quot;</span><span class=\"p\">)</span>\n",
       "<span class=\"lineno\">41 </span>        <span class=\"n\">filter_dict</span><span class=\"p\">[</span><span class=\"n\">k</span><span class=\"p\">]</span> <span class=\"o\">=</span> <span class=\"n\">v</span>\n",
       "<span class=\"lineno\">42 </span>\n",
       "<span class=\"lineno\">43 </span>    <span class=\"c1\"># let&#39;s filter the devices</span>\n",
       "<span class=\"lineno\">44 </span>    <span class=\"n\">filtered</span> <span class=\"o\">=</span> <span class=\"n\">brg</span><span class=\"o\">.</span><span class=\"n\">filter</span><span class=\"p\">(</span><span class=\"o\">**</span><span class=\"n\">filter_dict</span><span class=\"p\">)</span>\n",
       "<span class=\"lineno\">45 </span>\n",
       "<span class=\"lineno\">46 </span>    <span class=\"n\">results</span> <span class=\"o\">=</span> <span class=\"n\">filtered</span><span class=\"o\">.</span><span class=\"n\">run</span><span class=\"p\">(</span><span class=\"n\">task</span><span class=\"o\">=</span><span class=\"n\">rollback</span><span class=\"p\">,</span> <span class=\"n\">path</span><span class=\"o\">=</span><span class=\"n\">path</span><span class=\"p\">)</span>\n",
       "<span class=\"lineno\">47 </span>\n",
       "<span class=\"lineno\">48 </span>    <span class=\"n\">filtered</span><span class=\"o\">.</span><span class=\"n\">run</span><span class=\"p\">(</span><span class=\"n\">text</span><span class=\"o\">.</span><span class=\"n\">print_result</span><span class=\"p\">,</span>\n",
       "<span class=\"lineno\">49 </span>                 <span class=\"n\">num_workers</span><span class=\"o\">=</span><span class=\"mi\">1</span><span class=\"p\">,</span>  <span class=\"c1\"># task should be done synchronously</span>\n",
       "<span class=\"lineno\">50 </span>                 <span class=\"n\">data</span><span class=\"o\">=</span><span class=\"n\">results</span><span class=\"p\">,</span>\n",
       "<span class=\"lineno\">51 </span>                 <span class=\"n\">task_id</span><span class=\"o\">=-</span><span class=\"mi\">1</span><span class=\"p\">,</span>  <span class=\"c1\"># we only want to print the last task</span>\n",
       "<span class=\"lineno\">52 </span>                 <span class=\"p\">)</span>\n",
       "<span class=\"lineno\">53 </span>\n",
       "<span class=\"lineno\">54 </span>\n",
       "<span class=\"lineno\">55 </span><span class=\"k\">if</span> <span class=\"vm\">__name__</span> <span class=\"o\">==</span> <span class=\"s2\">&quot;__main__&quot;</span><span class=\"p\">:</span>\n",
       "<span class=\"lineno\">56 </span>    <span class=\"n\">main</span><span class=\"p\">()</span>\n",
       "</pre></div>\n",
       "\n"
      ],
      "text/plain": [
       "<IPython.core.display.HTML object>"
      ]
     },
     "execution_count": 2,
     "metadata": {},
     "output_type": "execute_result"
    }
   ],
   "source": [
    "%highlight_file rollback.py"
   ]
  },
  {
   "cell_type": "markdown",
   "metadata": {},
   "source": [
    "## Demo\n",
    "\n",
    "As usual, let's start with the help:"
   ]
  },
  {
   "cell_type": "code",
   "execution_count": 3,
   "metadata": {},
   "outputs": [
    {
     "name": "stdout",
     "output_type": "stream",
     "text": [
      "Usage: rollback.py [OPTIONS]\n",
      "\n",
      "Options:\n",
      "  -f, --filter TEXT           k=v pairs to filter the devices\n",
      "  -c, --commit / --no-commit  whether you want to commit the changes or not\n",
      "  -p, --path TEXT             Where to save the backup files\n",
      "  --help                      Show this message and exit.\n",
      "\u001b[0m"
     ]
    }
   ],
   "source": [
    "%run rollback.py --help"
   ]
  },
  {
   "cell_type": "markdown",
   "metadata": {},
   "source": [
    "Looks like we can filter devices as usual, we can test changes as with the ``configure.py`` tool and that we can even choose the path where to look for the configurations. Let's try it:"
   ]
  },
  {
   "cell_type": "code",
   "execution_count": 6,
   "metadata": {},
   "outputs": [
    {
     "name": "stdout",
     "output_type": "stream",
     "text": [
      "\u001b[1m\u001b[33m* spine00.cmh ** changed : True ************************************************\u001b[0m\n",
      "\u001b[0m\u001b[1m\u001b[36m---- Loading Configuration on the device ** changed : True  --------------------\u001b[0m\n",
      "\u001b[0m@@ -15,10 +15,10 @@\n",
      " !\n",
      " aaa authorization exec default local\n",
      " !\n",
      "-aaa root secret sha512 $6$DInx3sLBwR.ikKs8$ThNQ/uVPDT9YXcreGqYZ53IZA.abXsMPsV4jdylCVl5Nu6GMcVcFgvE9L3hvM/vZDJS7.1xs9ZwphFdP1BhNP1\n",
      "+aaa root secret sha512 $6$5stn7z2imBLV6iO0$w0ZnOhy8SwNdELdO2da9q8wDKerYTyY8evY052UoyRJ2Wo6liaUneuTFGphL8JQD9gtESOipCBb6PYmSMuUjs.\n",
      " !\n",
      "-username admin privilege 15 role network-admin secret sha512 $6$JHsj9QpFAuo8TKNS$98Wmnr/.L2CCHtd6peL2q4fGOnt39C/XtBPJms6J/u1qBX9xWvf99FIYuQPSoqCTYBrN0ZNjzVKeIkNnV.Gez.\n",
      "-username vagrant privilege 15 role network-admin secret sha512 $6$Ga4ejrWPFsycSHFN$IJoLAEfCFHqiOwZX/PHlcx5vZ.Hpfx3NxHQXXEuf.Ni3QKlYL108fHruK86rzCjh9aYvBzoQ/ljLSy09.p6Z6/\n",
      "+username admin privilege 15 role network-admin secret sha512 $6$qkXlQpatVlanYe9v$aHTbPaGTaqDRCp5WSC3DPpDfblYSE24.OHeKgGOOTf0.Ol2lDpivTvHByx5tU41sVOGcHqc4U4LgrKv8AjbKQ/\n",
      "+username vagrant privilege 15 role network-admin secret sha512 $6$kRQZJTqx69hOW5ag$Y6VX8Kk37TWEsriKdr6ixqvMuUSSbuFu2Eh/5SIet2TCeXP3bdlwikIAruPp6lHB5HdC.t6tPsZVctHMU7H590\n",
      " !\n",
      " interface Ethernet1\n",
      "    description link to leaf00.cmh\u001b[0m\n",
      "\u001b[0m\n",
      "\u001b[0m\u001b[1m\u001b[33m* spine01.cmh ** changed : True ************************************************\u001b[0m\n",
      "\u001b[0m\u001b[1m\u001b[36m---- Loading Configuration on the device ** changed : True  --------------------\u001b[0m\n",
      "\u001b[0m[edit system root-authentication]\n",
      "+    ssh-rsa \"ssh-rsa AAAAB3NzaC1yc2EAAAADAQABAAABAQDi/i8iiAZsXC5qdmJZpTxKjUyyoMgEGoHXl/TMFdJjSV+XAZ18OXAEsvPO0AlXJ6RZTwK8Zcr6TLq4l1Kssd+kVN02shFkgDo3wWf3I2BXKKdog6/6fbhiD1SgCeafzWBlUQvREgDQDy1XSFjNjSJ39vtOa8ikqGdbf4XH0hjoLHYDV0H0VNZLboULCNFPF0PHQfPrsp2AXHU+p7sl61GhZgfw6WuLIzXWqJyq9B0Q5XgdmvnvdjZeTOShoPTPbaRYVVFOMGTqJQOZsl5P3wTIJT8JG7iEz1Tiar8nmltON83sy/lEODhZkJPXe3zw3fwUIS9yQ53z0t1UGHm7KGNX vagrant\"; ## SECRET-DATA\n",
      "-    ssh-rsa \"ssh-rsa AAAAB3NzaC1yc2EAAAADAQABAAABAQCcn03wv4SesN3JeAdwiOzgEdY5f+u4yptRK8OEjkHLuJg/6lR6MoD2BkdvWLShtx97/kVbxbTWOu9XM1mZ+E/YDR0mt7eHWwiy/OlgP9i0MzSj+XhtMUzRp7Ow+34VrrW7yQmuIkigq/QkDPv3b6O0u0y6azCQVrg5pvwRdZU2xTyKt/aM6/TL+glVh508XqG7RzlsmIRnrSa0WfHzcbQKPTJXlAjLGoYk53SltxW//e5HMQnTAJop0ic7FniXrVhS8F9iKxfLfFqzB5JJ2gaQX3y3cPr1MIg60aoSprI/8297wjE6fnQGcp1H1fD5rJx96m+3ViwydbtElhljcreB vagrant\"; ## SECRET-DATA\u001b[0m\n",
      "\u001b[0m\n",
      "\u001b[0m\u001b[1m\u001b[33m* leaf00.cmh ** changed : True *************************************************\u001b[0m\n",
      "\u001b[0m\u001b[1m\u001b[36m---- Loading Configuration on the device ** changed : True  --------------------\u001b[0m\n",
      "\u001b[0m@@ -15,10 +15,10 @@\n",
      " !\n",
      " aaa authorization exec default local\n",
      " !\n",
      "-aaa root secret sha512 $6$8FLl5NfSda1Wh6d8$3SO4hP73eJnMf5kHrKUoMJ4jMtLU7iRrj/FJwAgAdk4GImfqy6WYLqMgmfpYOe6v/T4rjIFpOX..LmhCnbgbO0\n",
      "+aaa root secret sha512 $6$sRifRAo/DXihW7sG$3r4MMTsslNCCWdD/FFIw3lvnnkI4SWO0bvhEzvWSurrOBgUsxjrmgN5kywH5Ta7LNNXiWjFfjwoyefn9nqeB2/\n",
      " !\n",
      "-username admin privilege 15 role network-admin secret sha512 $6$JA1pT7X2JMgpNLbD$mqA6evjEvg1wN09FOs9zniHg63Q.t7DEGEE5mxjXbmzLn5BI4H0OYjramSH5TTwsIyrBbTVbEv49dzeHqpYD4/\n",
      "-username vagrant privilege 15 role network-admin secret sha512 $6$MZz3VvL4.drK.FFg$lgXW.Fcb9rxxhAoYPg/GxFKAKVxrDEsPmeVNxxn8IH7RnRDRgZltqjPdpq53XYPaeGQO51MZ1qt30ziPwKbDl0\n",
      "+username admin privilege 15 role network-admin secret sha512 $6$/K1M3ENrC/xALAOm$1vCB5TfaI8ih5GQRCwhRE7KGzmc.EGuQZ7dEuwhP7AJC0/A97u88miINH/7GtrBpRZ.Inn5JY9tuymMcmyyKc.\n",
      "+username vagrant privilege 15 role network-admin secret sha512 $6$9CGTCvCiiJK3lDMp$kU9ncPDBkw0w09.h9wIhQtMAkZ/1zD1ds/wlAZAtmSQf5ntNMjDgvmZpBcXWAPAETlk4.kA9niLTVmQwaLBV/.\n",
      " !\n",
      " vlan 100\n",
      "    name frontend\u001b[0m\n",
      "\u001b[0m\n",
      "\u001b[0m\u001b[1m\u001b[33m* leaf01.cmh ** changed : True *************************************************\u001b[0m\n",
      "\u001b[0m\u001b[1m\u001b[36m---- Loading Configuration on the device ** changed : True  --------------------\u001b[0m\n",
      "\u001b[0m[edit system root-authentication]\n",
      "+    ssh-rsa \"ssh-rsa AAAAB3NzaC1yc2EAAAADAQABAAABAQDsfGpEhGi8CbjIHJkMju/CJH6IuQiIzZyDt+AVieDfXKWDuBSOfc7YV8xNdYMqQqpDOWmEVZ7dhfD6IWDI3aa6WLkEXORD+zScjQo+5iHty6VlI61ImHQkWhWX6pZi3Cq/JsH8oldIC2xvzFNWB2p1suu+rzuGtJjbDq5NMlp1bNSiBgV0dHZR6Lt1UuK/rVBl7FbBN8HpInM+a37SkkwIrKMK8z42Ax9ufd17P3SqZP8oo+Ql4Y3aeCz2t4CfZNh9YRLZSiUYF16VN+31mzKEqT7+0rFlyfv/CaPwyfAv2BPFljUEsyFsWU923EGYQsfOIKVnd+zzHDHIHapVMQbh vagrant\"; ## SECRET-DATA\n",
      "-    ssh-rsa \"ssh-rsa AAAAB3NzaC1yc2EAAAADAQABAAABAQDuoXCl14JaKfWnyKSp1c4wjBv6XiCMsIRT7w0+BQxvaS7D1AoxNksYCTTjAJ8HVaMcLD7MI4bajS3/oEwtmCVpNJBG91UCi0P3tN2GjQwCwzrZG0eNpP2Gy51sKcq2lM1sxi+9QKYAtK5gmqV2Y8UeOuo4jKVNxCrPLYXO2BQBGCBUPayDjiPDir0H2BCKGpuwgegHgpkFKw+tWqo0IFsQmnvOQX+mjGDV8PVghCnzLO2ZbZrZPu5rRSgZm+CFGK1DGDsPBgdElxnu6ytjVIKkDzHrZ6HEm7yFgneb0WDGEmVl8MvBS9VPXXv8NzHJTUnedbxWKcqJ+xurpAGAYm6n vagrant\"; ## SECRET-DATA\u001b[0m\n",
      "\u001b[0m\n",
      "\u001b[0m"
     ]
    }
   ],
   "source": [
    "%run rollback.py --path backups/cmh --no-commit --filter site=cmh"
   ]
  },
  {
   "cell_type": "markdown",
   "metadata": {},
   "source": [
    "Looks legit, let's commit the changes:"
   ]
  },
  {
   "cell_type": "code",
   "execution_count": 7,
   "metadata": {},
   "outputs": [
    {
     "name": "stdout",
     "output_type": "stream",
     "text": [
      "\u001b[1m\u001b[33m* spine00.cmh ** changed : True ************************************************\u001b[0m\n",
      "\u001b[0m\u001b[1m\u001b[36m---- Loading Configuration on the device ** changed : True  --------------------\u001b[0m\n",
      "\u001b[0m@@ -15,10 +15,10 @@\n",
      " !\n",
      " aaa authorization exec default local\n",
      " !\n",
      "-aaa root secret sha512 $6$DInx3sLBwR.ikKs8$ThNQ/uVPDT9YXcreGqYZ53IZA.abXsMPsV4jdylCVl5Nu6GMcVcFgvE9L3hvM/vZDJS7.1xs9ZwphFdP1BhNP1\n",
      "+aaa root secret sha512 $6$5stn7z2imBLV6iO0$w0ZnOhy8SwNdELdO2da9q8wDKerYTyY8evY052UoyRJ2Wo6liaUneuTFGphL8JQD9gtESOipCBb6PYmSMuUjs.\n",
      " !\n",
      "-username admin privilege 15 role network-admin secret sha512 $6$JHsj9QpFAuo8TKNS$98Wmnr/.L2CCHtd6peL2q4fGOnt39C/XtBPJms6J/u1qBX9xWvf99FIYuQPSoqCTYBrN0ZNjzVKeIkNnV.Gez.\n",
      "-username vagrant privilege 15 role network-admin secret sha512 $6$Ga4ejrWPFsycSHFN$IJoLAEfCFHqiOwZX/PHlcx5vZ.Hpfx3NxHQXXEuf.Ni3QKlYL108fHruK86rzCjh9aYvBzoQ/ljLSy09.p6Z6/\n",
      "+username admin privilege 15 role network-admin secret sha512 $6$qkXlQpatVlanYe9v$aHTbPaGTaqDRCp5WSC3DPpDfblYSE24.OHeKgGOOTf0.Ol2lDpivTvHByx5tU41sVOGcHqc4U4LgrKv8AjbKQ/\n",
      "+username vagrant privilege 15 role network-admin secret sha512 $6$kRQZJTqx69hOW5ag$Y6VX8Kk37TWEsriKdr6ixqvMuUSSbuFu2Eh/5SIet2TCeXP3bdlwikIAruPp6lHB5HdC.t6tPsZVctHMU7H590\n",
      " !\n",
      " interface Ethernet1\n",
      "    description link to leaf00.cmh\u001b[0m\n",
      "\u001b[0m\n",
      "\u001b[0m\u001b[1m\u001b[33m* spine01.cmh ** changed : True ************************************************\u001b[0m\n",
      "\u001b[0m\u001b[1m\u001b[36m---- Loading Configuration on the device ** changed : True  --------------------\u001b[0m\n",
      "\u001b[0m[edit system root-authentication]\n",
      "+    ssh-rsa \"ssh-rsa AAAAB3NzaC1yc2EAAAADAQABAAABAQDi/i8iiAZsXC5qdmJZpTxKjUyyoMgEGoHXl/TMFdJjSV+XAZ18OXAEsvPO0AlXJ6RZTwK8Zcr6TLq4l1Kssd+kVN02shFkgDo3wWf3I2BXKKdog6/6fbhiD1SgCeafzWBlUQvREgDQDy1XSFjNjSJ39vtOa8ikqGdbf4XH0hjoLHYDV0H0VNZLboULCNFPF0PHQfPrsp2AXHU+p7sl61GhZgfw6WuLIzXWqJyq9B0Q5XgdmvnvdjZeTOShoPTPbaRYVVFOMGTqJQOZsl5P3wTIJT8JG7iEz1Tiar8nmltON83sy/lEODhZkJPXe3zw3fwUIS9yQ53z0t1UGHm7KGNX vagrant\"; ## SECRET-DATA\n",
      "-    ssh-rsa \"ssh-rsa AAAAB3NzaC1yc2EAAAADAQABAAABAQCcn03wv4SesN3JeAdwiOzgEdY5f+u4yptRK8OEjkHLuJg/6lR6MoD2BkdvWLShtx97/kVbxbTWOu9XM1mZ+E/YDR0mt7eHWwiy/OlgP9i0MzSj+XhtMUzRp7Ow+34VrrW7yQmuIkigq/QkDPv3b6O0u0y6azCQVrg5pvwRdZU2xTyKt/aM6/TL+glVh508XqG7RzlsmIRnrSa0WfHzcbQKPTJXlAjLGoYk53SltxW//e5HMQnTAJop0ic7FniXrVhS8F9iKxfLfFqzB5JJ2gaQX3y3cPr1MIg60aoSprI/8297wjE6fnQGcp1H1fD5rJx96m+3ViwydbtElhljcreB vagrant\"; ## SECRET-DATA\u001b[0m\n",
      "\u001b[0m\n",
      "\u001b[0m\u001b[1m\u001b[33m* leaf00.cmh ** changed : True *************************************************\u001b[0m\n",
      "\u001b[0m\u001b[1m\u001b[36m---- Loading Configuration on the device ** changed : True  --------------------\u001b[0m\n",
      "\u001b[0m@@ -15,10 +15,10 @@\n",
      " !\n",
      " aaa authorization exec default local\n",
      " !\n",
      "-aaa root secret sha512 $6$8FLl5NfSda1Wh6d8$3SO4hP73eJnMf5kHrKUoMJ4jMtLU7iRrj/FJwAgAdk4GImfqy6WYLqMgmfpYOe6v/T4rjIFpOX..LmhCnbgbO0\n",
      "+aaa root secret sha512 $6$sRifRAo/DXihW7sG$3r4MMTsslNCCWdD/FFIw3lvnnkI4SWO0bvhEzvWSurrOBgUsxjrmgN5kywH5Ta7LNNXiWjFfjwoyefn9nqeB2/\n",
      " !\n",
      "-username admin privilege 15 role network-admin secret sha512 $6$JA1pT7X2JMgpNLbD$mqA6evjEvg1wN09FOs9zniHg63Q.t7DEGEE5mxjXbmzLn5BI4H0OYjramSH5TTwsIyrBbTVbEv49dzeHqpYD4/\n",
      "-username vagrant privilege 15 role network-admin secret sha512 $6$MZz3VvL4.drK.FFg$lgXW.Fcb9rxxhAoYPg/GxFKAKVxrDEsPmeVNxxn8IH7RnRDRgZltqjPdpq53XYPaeGQO51MZ1qt30ziPwKbDl0\n",
      "+username admin privilege 15 role network-admin secret sha512 $6$/K1M3ENrC/xALAOm$1vCB5TfaI8ih5GQRCwhRE7KGzmc.EGuQZ7dEuwhP7AJC0/A97u88miINH/7GtrBpRZ.Inn5JY9tuymMcmyyKc.\n",
      "+username vagrant privilege 15 role network-admin secret sha512 $6$9CGTCvCiiJK3lDMp$kU9ncPDBkw0w09.h9wIhQtMAkZ/1zD1ds/wlAZAtmSQf5ntNMjDgvmZpBcXWAPAETlk4.kA9niLTVmQwaLBV/.\n",
      " !\n",
      " vlan 100\n",
      "    name frontend\u001b[0m\n",
      "\u001b[0m\n",
      "\u001b[0m\u001b[1m\u001b[33m* leaf01.cmh ** changed : True *************************************************\u001b[0m\n",
      "\u001b[0m\u001b[1m\u001b[36m---- Loading Configuration on the device ** changed : True  --------------------\u001b[0m\n",
      "\u001b[0m[edit system root-authentication]\n",
      "+    ssh-rsa \"ssh-rsa AAAAB3NzaC1yc2EAAAADAQABAAABAQDsfGpEhGi8CbjIHJkMju/CJH6IuQiIzZyDt+AVieDfXKWDuBSOfc7YV8xNdYMqQqpDOWmEVZ7dhfD6IWDI3aa6WLkEXORD+zScjQo+5iHty6VlI61ImHQkWhWX6pZi3Cq/JsH8oldIC2xvzFNWB2p1suu+rzuGtJjbDq5NMlp1bNSiBgV0dHZR6Lt1UuK/rVBl7FbBN8HpInM+a37SkkwIrKMK8z42Ax9ufd17P3SqZP8oo+Ql4Y3aeCz2t4CfZNh9YRLZSiUYF16VN+31mzKEqT7+0rFlyfv/CaPwyfAv2BPFljUEsyFsWU923EGYQsfOIKVnd+zzHDHIHapVMQbh vagrant\"; ## SECRET-DATA\n",
      "-    ssh-rsa \"ssh-rsa AAAAB3NzaC1yc2EAAAADAQABAAABAQDuoXCl14JaKfWnyKSp1c4wjBv6XiCMsIRT7w0+BQxvaS7D1AoxNksYCTTjAJ8HVaMcLD7MI4bajS3/oEwtmCVpNJBG91UCi0P3tN2GjQwCwzrZG0eNpP2Gy51sKcq2lM1sxi+9QKYAtK5gmqV2Y8UeOuo4jKVNxCrPLYXO2BQBGCBUPayDjiPDir0H2BCKGpuwgegHgpkFKw+tWqo0IFsQmnvOQX+mjGDV8PVghCnzLO2ZbZrZPu5rRSgZm+CFGK1DGDsPBgdElxnu6ytjVIKkDzHrZ6HEm7yFgneb0WDGEmVl8MvBS9VPXXv8NzHJTUnedbxWKcqJ+xurpAGAYm6n vagrant\"; ## SECRET-DATA\u001b[0m\n",
      "\u001b[0m\n",
      "\u001b[0m"
     ]
    }
   ],
   "source": [
    "%run rollback.py --path backups/cmh --commit --filter site=cmh"
   ]
  },
  {
   "cell_type": "markdown",
   "metadata": {},
   "source": [
    "And let's verify all changes were applied correctly:"
   ]
  },
  {
   "cell_type": "code",
   "execution_count": 8,
   "metadata": {},
   "outputs": [
    {
     "name": "stdout",
     "output_type": "stream",
     "text": [
      "\u001b[1m\u001b[34m* spine00.cmh ** changed : False ***********************************************\u001b[0m\n",
      "\u001b[0m\u001b[1m\u001b[36m---- Loading Configuration on the device ** changed : False  -------------------\u001b[0m\n",
      "\u001b[0m\n",
      "\u001b[0m\u001b[1m\u001b[34m* spine01.cmh ** changed : False ***********************************************\u001b[0m\n",
      "\u001b[0m\u001b[1m\u001b[36m---- Loading Configuration on the device ** changed : False  -------------------\u001b[0m\n",
      "\u001b[0m\n",
      "\u001b[0m\u001b[1m\u001b[34m* leaf00.cmh ** changed : False ************************************************\u001b[0m\n",
      "\u001b[0m\u001b[1m\u001b[36m---- Loading Configuration on the device ** changed : False  -------------------\u001b[0m\n",
      "\u001b[0m\n",
      "\u001b[0m\u001b[1m\u001b[34m* leaf01.cmh ** changed : False ************************************************\u001b[0m\n",
      "\u001b[0m\u001b[1m\u001b[36m---- Loading Configuration on the device ** changed : False  -------------------\u001b[0m\n",
      "\u001b[0m\n",
      "\u001b[0m"
     ]
    }
   ],
   "source": [
    "%run rollback.py --path backups/cmh --no-commit --filter site=cmh"
   ]
  },
  {
   "cell_type": "code",
   "execution_count": null,
   "metadata": {},
   "outputs": [],
   "source": []
  }
 ],
 "metadata": {
  "kernelspec": {
   "display_name": "Python 3",
   "language": "python",
   "name": "python3"
  },
  "language_info": {
   "codemirror_mode": {
    "name": "ipython",
    "version": 3
   },
   "file_extension": ".py",
   "mimetype": "text/x-python",
   "name": "python",
   "nbconvert_exporter": "python",
   "pygments_lexer": "ipython3",
   "version": "3.6.3"
  }
 },
 "nbformat": 4,
 "nbformat_minor": 2
}
