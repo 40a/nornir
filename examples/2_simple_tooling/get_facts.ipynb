{
 "cells": [
  {
   "cell_type": "code",
   "execution_count": 1,
   "metadata": {},
   "outputs": [],
   "source": [
    "# ignore this cell, this is just a helper cell to provide the magic %highlight_file\n",
    "%run ../highlighter.py"
   ]
  },
  {
   "cell_type": "markdown",
   "metadata": {},
   "source": [
    "# Get facts\n",
    "\n",
    "## Code"
   ]
  },
  {
   "cell_type": "code",
   "execution_count": 2,
   "metadata": {},
   "outputs": [
    {
     "data": {
      "text/html": [
       "<style>\n",
       ".pygments .hll { background-color: #ffffcc }\n",
       ".pygments  { background: #f8f8f8; }\n",
       ".pygments .c { color: #408080; font-style: italic } /* Comment */\n",
       ".pygments .err { border: 1px solid #FF0000 } /* Error */\n",
       ".pygments .k { color: #008000; font-weight: bold } /* Keyword */\n",
       ".pygments .o { color: #666666 } /* Operator */\n",
       ".pygments .ch { color: #408080; font-style: italic } /* Comment.Hashbang */\n",
       ".pygments .cm { color: #408080; font-style: italic } /* Comment.Multiline */\n",
       ".pygments .cp { color: #BC7A00 } /* Comment.Preproc */\n",
       ".pygments .cpf { color: #408080; font-style: italic } /* Comment.PreprocFile */\n",
       ".pygments .c1 { color: #408080; font-style: italic } /* Comment.Single */\n",
       ".pygments .cs { color: #408080; font-style: italic } /* Comment.Special */\n",
       ".pygments .gd { color: #A00000 } /* Generic.Deleted */\n",
       ".pygments .ge { font-style: italic } /* Generic.Emph */\n",
       ".pygments .gr { color: #FF0000 } /* Generic.Error */\n",
       ".pygments .gh { color: #000080; font-weight: bold } /* Generic.Heading */\n",
       ".pygments .gi { color: #00A000 } /* Generic.Inserted */\n",
       ".pygments .go { color: #888888 } /* Generic.Output */\n",
       ".pygments .gp { color: #000080; font-weight: bold } /* Generic.Prompt */\n",
       ".pygments .gs { font-weight: bold } /* Generic.Strong */\n",
       ".pygments .gu { color: #800080; font-weight: bold } /* Generic.Subheading */\n",
       ".pygments .gt { color: #0044DD } /* Generic.Traceback */\n",
       ".pygments .kc { color: #008000; font-weight: bold } /* Keyword.Constant */\n",
       ".pygments .kd { color: #008000; font-weight: bold } /* Keyword.Declaration */\n",
       ".pygments .kn { color: #008000; font-weight: bold } /* Keyword.Namespace */\n",
       ".pygments .kp { color: #008000 } /* Keyword.Pseudo */\n",
       ".pygments .kr { color: #008000; font-weight: bold } /* Keyword.Reserved */\n",
       ".pygments .kt { color: #B00040 } /* Keyword.Type */\n",
       ".pygments .m { color: #666666 } /* Literal.Number */\n",
       ".pygments .s { color: #BA2121 } /* Literal.String */\n",
       ".pygments .na { color: #7D9029 } /* Name.Attribute */\n",
       ".pygments .nb { color: #008000 } /* Name.Builtin */\n",
       ".pygments .nc { color: #0000FF; font-weight: bold } /* Name.Class */\n",
       ".pygments .no { color: #880000 } /* Name.Constant */\n",
       ".pygments .nd { color: #AA22FF } /* Name.Decorator */\n",
       ".pygments .ni { color: #999999; font-weight: bold } /* Name.Entity */\n",
       ".pygments .ne { color: #D2413A; font-weight: bold } /* Name.Exception */\n",
       ".pygments .nf { color: #0000FF } /* Name.Function */\n",
       ".pygments .nl { color: #A0A000 } /* Name.Label */\n",
       ".pygments .nn { color: #0000FF; font-weight: bold } /* Name.Namespace */\n",
       ".pygments .nt { color: #008000; font-weight: bold } /* Name.Tag */\n",
       ".pygments .nv { color: #19177C } /* Name.Variable */\n",
       ".pygments .ow { color: #AA22FF; font-weight: bold } /* Operator.Word */\n",
       ".pygments .w { color: #bbbbbb } /* Text.Whitespace */\n",
       ".pygments .mb { color: #666666 } /* Literal.Number.Bin */\n",
       ".pygments .mf { color: #666666 } /* Literal.Number.Float */\n",
       ".pygments .mh { color: #666666 } /* Literal.Number.Hex */\n",
       ".pygments .mi { color: #666666 } /* Literal.Number.Integer */\n",
       ".pygments .mo { color: #666666 } /* Literal.Number.Oct */\n",
       ".pygments .sa { color: #BA2121 } /* Literal.String.Affix */\n",
       ".pygments .sb { color: #BA2121 } /* Literal.String.Backtick */\n",
       ".pygments .sc { color: #BA2121 } /* Literal.String.Char */\n",
       ".pygments .dl { color: #BA2121 } /* Literal.String.Delimiter */\n",
       ".pygments .sd { color: #BA2121; font-style: italic } /* Literal.String.Doc */\n",
       ".pygments .s2 { color: #BA2121 } /* Literal.String.Double */\n",
       ".pygments .se { color: #BB6622; font-weight: bold } /* Literal.String.Escape */\n",
       ".pygments .sh { color: #BA2121 } /* Literal.String.Heredoc */\n",
       ".pygments .si { color: #BB6688; font-weight: bold } /* Literal.String.Interpol */\n",
       ".pygments .sx { color: #008000 } /* Literal.String.Other */\n",
       ".pygments .sr { color: #BB6688 } /* Literal.String.Regex */\n",
       ".pygments .s1 { color: #BA2121 } /* Literal.String.Single */\n",
       ".pygments .ss { color: #19177C } /* Literal.String.Symbol */\n",
       ".pygments .bp { color: #008000 } /* Name.Builtin.Pseudo */\n",
       ".pygments .fm { color: #0000FF } /* Name.Function.Magic */\n",
       ".pygments .vc { color: #19177C } /* Name.Variable.Class */\n",
       ".pygments .vg { color: #19177C } /* Name.Variable.Global */\n",
       ".pygments .vi { color: #19177C } /* Name.Variable.Instance */\n",
       ".pygments .vm { color: #19177C } /* Name.Variable.Magic */\n",
       ".pygments .il { color: #666666 } /* Literal.Number.Integer.Long */\n",
       "</style>\n",
       "<div class=\"pygments\"><pre><span></span><span class=\"lineno\"> 1 </span><span class=\"ch\">#!/usr/bin/env python</span>\n",
       "<span class=\"lineno\"> 2 </span><span class=\"sd\">&quot;&quot;&quot;</span>\n",
       "<span class=\"lineno\"> 3 </span><span class=\"sd\">Very simple tool to get facts and print them on the screen.</span>\n",
       "<span class=\"lineno\"> 4 </span><span class=\"sd\">&quot;&quot;&quot;</span>\n",
       "<span class=\"lineno\"> 5 </span><span class=\"kn\">from</span> <span class=\"nn\">brigade.easy</span> <span class=\"k\">import</span> <span class=\"n\">easy_brigade</span>\n",
       "<span class=\"lineno\"> 6 </span><span class=\"kn\">from</span> <span class=\"nn\">brigade.plugins.tasks</span> <span class=\"k\">import</span> <span class=\"n\">networking</span><span class=\"p\">,</span> <span class=\"n\">text</span>\n",
       "<span class=\"lineno\"> 7 </span>\n",
       "<span class=\"lineno\"> 8 </span><span class=\"kn\">import</span> <span class=\"nn\">click</span>\n",
       "<span class=\"lineno\"> 9 </span>\n",
       "<span class=\"lineno\">10 </span>\n",
       "<span class=\"lineno\">11 </span><span class=\"nd\">@click</span><span class=\"o\">.</span><span class=\"n\">command</span><span class=\"p\">()</span>\n",
       "<span class=\"lineno\">12 </span><span class=\"nd\">@click</span><span class=\"o\">.</span><span class=\"n\">option</span><span class=\"p\">(</span><span class=\"s1\">&#39;--filter&#39;</span><span class=\"p\">,</span> <span class=\"s1\">&#39;-f&#39;</span><span class=\"p\">,</span> <span class=\"n\">multiple</span><span class=\"o\">=</span><span class=\"kc\">True</span><span class=\"p\">,</span>\n",
       "<span class=\"lineno\">13 </span>              <span class=\"n\">help</span><span class=\"o\">=</span><span class=\"s2\">&quot;k=v pairs to filter the devices&quot;</span><span class=\"p\">)</span>\n",
       "<span class=\"lineno\">14 </span><span class=\"nd\">@click</span><span class=\"o\">.</span><span class=\"n\">option</span><span class=\"p\">(</span><span class=\"s1\">&#39;--get&#39;</span><span class=\"p\">,</span> <span class=\"s1\">&#39;-g&#39;</span><span class=\"p\">,</span> <span class=\"n\">multiple</span><span class=\"o\">=</span><span class=\"kc\">True</span><span class=\"p\">,</span>\n",
       "<span class=\"lineno\">15 </span>              <span class=\"n\">help</span><span class=\"o\">=</span><span class=\"s2\">&quot;getters you want to use&quot;</span><span class=\"p\">)</span>\n",
       "<span class=\"lineno\">16 </span><span class=\"k\">def</span> <span class=\"nf\">main</span><span class=\"p\">(</span><span class=\"nb\">filter</span><span class=\"p\">,</span> <span class=\"n\">get</span><span class=\"p\">):</span>\n",
       "<span class=\"lineno\">17 </span>    <span class=\"sd\">&quot;&quot;&quot;</span>\n",
       "<span class=\"lineno\">18 </span><span class=\"sd\">    Retrieve information from network devices using napalm</span>\n",
       "<span class=\"lineno\">19 </span><span class=\"sd\">    &quot;&quot;&quot;</span>\n",
       "<span class=\"lineno\">20 </span>    <span class=\"n\">brg</span> <span class=\"o\">=</span> <span class=\"n\">easy_brigade</span><span class=\"p\">(</span>\n",
       "<span class=\"lineno\">21 </span>            <span class=\"n\">host_file</span><span class=\"o\">=</span><span class=\"s2\">&quot;../inventory/hosts.yaml&quot;</span><span class=\"p\">,</span>\n",
       "<span class=\"lineno\">22 </span>            <span class=\"n\">group_file</span><span class=\"o\">=</span><span class=\"s2\">&quot;../inventory/groups.yaml&quot;</span><span class=\"p\">,</span>\n",
       "<span class=\"lineno\">23 </span>            <span class=\"n\">dry_run</span><span class=\"o\">=</span><span class=\"kc\">False</span><span class=\"p\">,</span>\n",
       "<span class=\"lineno\">24 </span>            <span class=\"n\">raise_on_error</span><span class=\"o\">=</span><span class=\"kc\">False</span><span class=\"p\">,</span>\n",
       "<span class=\"lineno\">25 </span>    <span class=\"p\">)</span>\n",
       "<span class=\"lineno\">26 </span>\n",
       "<span class=\"lineno\">27 </span>    <span class=\"c1\"># filter is going to be a list of key=value so we clean that first</span>\n",
       "<span class=\"lineno\">28 </span>    <span class=\"n\">filter_dict</span> <span class=\"o\">=</span> <span class=\"p\">{</span><span class=\"s2\">&quot;type&quot;</span><span class=\"p\">:</span> <span class=\"s2\">&quot;network_device&quot;</span><span class=\"p\">}</span>\n",
       "<span class=\"lineno\">29 </span>    <span class=\"k\">for</span> <span class=\"n\">f</span> <span class=\"ow\">in</span> <span class=\"nb\">filter</span><span class=\"p\">:</span>\n",
       "<span class=\"lineno\">30 </span>        <span class=\"n\">k</span><span class=\"p\">,</span> <span class=\"n\">v</span> <span class=\"o\">=</span> <span class=\"n\">f</span><span class=\"o\">.</span><span class=\"n\">split</span><span class=\"p\">(</span><span class=\"s2\">&quot;=&quot;</span><span class=\"p\">)</span>\n",
       "<span class=\"lineno\">31 </span>        <span class=\"n\">filter_dict</span><span class=\"p\">[</span><span class=\"n\">k</span><span class=\"p\">]</span> <span class=\"o\">=</span> <span class=\"n\">v</span>\n",
       "<span class=\"lineno\">32 </span>\n",
       "<span class=\"lineno\">33 </span>    <span class=\"c1\"># select which devices we want to work with</span>\n",
       "<span class=\"lineno\">34 </span>    <span class=\"n\">filtered</span> <span class=\"o\">=</span> <span class=\"n\">brg</span><span class=\"o\">.</span><span class=\"n\">filter</span><span class=\"p\">(</span><span class=\"o\">**</span><span class=\"n\">filter_dict</span><span class=\"p\">)</span>\n",
       "<span class=\"lineno\">35 </span>    <span class=\"n\">results</span> <span class=\"o\">=</span> <span class=\"n\">filtered</span><span class=\"o\">.</span><span class=\"n\">run</span><span class=\"p\">(</span><span class=\"n\">networking</span><span class=\"o\">.</span><span class=\"n\">napalm_get</span><span class=\"p\">,</span>\n",
       "<span class=\"lineno\">36 </span>                           <span class=\"n\">getters</span><span class=\"o\">=</span><span class=\"n\">get</span><span class=\"p\">)</span>\n",
       "<span class=\"lineno\">37 </span>\n",
       "<span class=\"lineno\">38 </span>    <span class=\"c1\"># Let&#39;s print the result on screen</span>\n",
       "<span class=\"lineno\">39 </span>    <span class=\"n\">filtered</span><span class=\"o\">.</span><span class=\"n\">run</span><span class=\"p\">(</span><span class=\"n\">text</span><span class=\"o\">.</span><span class=\"n\">print_result</span><span class=\"p\">,</span>\n",
       "<span class=\"lineno\">40 </span>                 <span class=\"n\">num_workers</span><span class=\"o\">=</span><span class=\"mi\">1</span><span class=\"p\">,</span>  <span class=\"c1\"># task should be done synchronously</span>\n",
       "<span class=\"lineno\">41 </span>                 <span class=\"n\">data</span><span class=\"o\">=</span><span class=\"n\">results</span><span class=\"p\">)</span>\n",
       "<span class=\"lineno\">42 </span>\n",
       "<span class=\"lineno\">43 </span>\n",
       "<span class=\"lineno\">44 </span><span class=\"k\">if</span> <span class=\"vm\">__name__</span> <span class=\"o\">==</span> <span class=\"s2\">&quot;__main__&quot;</span><span class=\"p\">:</span>\n",
       "<span class=\"lineno\">45 </span>    <span class=\"n\">main</span><span class=\"p\">()</span>\n",
       "</pre></div>\n",
       "\n"
      ],
      "text/plain": [
       "<IPython.core.display.HTML object>"
      ]
     },
     "execution_count": 2,
     "metadata": {},
     "output_type": "execute_result"
    }
   ],
   "source": [
    "%highlight_file get_facts.py"
   ]
  },
  {
   "cell_type": "markdown",
   "metadata": {},
   "source": [
    "## Demo\n",
    "\n",
    "As usual, let's start with the help:"
   ]
  },
  {
   "cell_type": "code",
   "execution_count": 3,
   "metadata": {},
   "outputs": [
    {
     "name": "stdout",
     "output_type": "stream",
     "text": [
      "Usage: get_facts.py [OPTIONS]\n",
      "\n",
      "  Retrieve information from network devices using napalm\n",
      "\n",
      "Options:\n",
      "  -f, --filter TEXT  k=v pairs to filter the devices\n",
      "  -g, --get TEXT     getters you want to use\n",
      "  --help             Show this message and exit.\n",
      "\u001b[0m"
     ]
    }
   ],
   "source": [
    "%run get_facts.py --help"
   ]
  },
  {
   "cell_type": "markdown",
   "metadata": {},
   "source": [
    "Looks like we can use any getter. Let's see:"
   ]
  },
  {
   "cell_type": "code",
   "execution_count": 4,
   "metadata": {},
   "outputs": [
    {
     "name": "stdout",
     "output_type": "stream",
     "text": [
      "\u001b[1m\u001b[34m* spine00.cmh ** changed : False ***********************************************\u001b[0m\n",
      "\u001b[0m\u001b[1m\u001b[36m---- napalm_get ** changed : False  --------------------------------------------\u001b[0m\n",
      "\u001b[0m{\u001b[0m \u001b[0m'interfaces'\u001b[0m: \u001b[0m{\u001b[0m \u001b[0m'Ethernet1'\u001b[0m: \u001b[0m{\u001b[0m \u001b[0m'description'\u001b[0m: \u001b[0m'link to leaf00.cmh'\u001b[0m,\n",
      "                                 \u001b[0m'is_enabled'\u001b[0m: \u001b[0mTrue\u001b[0m,\n",
      "                                 \u001b[0m'is_up'\u001b[0m: \u001b[0mFalse\u001b[0m,\n",
      "                                 \u001b[0m'last_flapped'\u001b[0m: \u001b[0m1516038050.9974556\u001b[0m,\n",
      "                                 \u001b[0m'mac_address'\u001b[0m: \u001b[0m'08:00:27:0C:31:79'\u001b[0m,\n",
      "                                 \u001b[0m'speed'\u001b[0m: \u001b[0m0\u001b[0m}\u001b[0m,\n",
      "                  \u001b[0m'Ethernet2'\u001b[0m: \u001b[0m{\u001b[0m \u001b[0m'description'\u001b[0m: \u001b[0m'link to leaf01.cmh'\u001b[0m,\n",
      "                                 \u001b[0m'is_enabled'\u001b[0m: \u001b[0mTrue\u001b[0m,\n",
      "                                 \u001b[0m'is_up'\u001b[0m: \u001b[0mTrue\u001b[0m,\n",
      "                                 \u001b[0m'last_flapped'\u001b[0m: \u001b[0m1516037549.5002303\u001b[0m,\n",
      "                                 \u001b[0m'mac_address'\u001b[0m: \u001b[0m'08:00:27:0C:31:79'\u001b[0m,\n",
      "                                 \u001b[0m'speed'\u001b[0m: \u001b[0m0\u001b[0m}\u001b[0m,\n",
      "                  \u001b[0m'Management1'\u001b[0m: \u001b[0m{\u001b[0m \u001b[0m'description'\u001b[0m: \u001b[0m''\u001b[0m,\n",
      "                                   \u001b[0m'is_enabled'\u001b[0m: \u001b[0mTrue\u001b[0m,\n",
      "                                   \u001b[0m'is_up'\u001b[0m: \u001b[0mTrue\u001b[0m,\n",
      "                                   \u001b[0m'last_flapped'\u001b[0m: \u001b[0m1516037563.4058475\u001b[0m,\n",
      "                                   \u001b[0m'mac_address'\u001b[0m: \u001b[0m'08:00:27:47:87:83'\u001b[0m,\n",
      "                                   \u001b[0m'speed'\u001b[0m: \u001b[0m1000\u001b[0m}\u001b[0m}\u001b[0m}\u001b[0m\n",
      "\u001b[0m\n",
      "\u001b[0m"
     ]
    }
   ],
   "source": [
    "%run get_facts.py --filter name=spine00.cmh -g interfaces"
   ]
  },
  {
   "cell_type": "code",
   "execution_count": 5,
   "metadata": {},
   "outputs": [
    {
     "name": "stdout",
     "output_type": "stream",
     "text": [
      "\u001b[1m\u001b[34m* spine00.cmh ** changed : False ***********************************************\u001b[0m\n",
      "\u001b[0m\u001b[1m\u001b[36m---- napalm_get ** changed : False  --------------------------------------------\u001b[0m\n",
      "\u001b[0m{\u001b[0m \u001b[0m'facts'\u001b[0m: \u001b[0m{\u001b[0m \u001b[0m'fqdn'\u001b[0m: \u001b[0m'spine00.cmh.cmh.acme.com'\u001b[0m,\n",
      "             \u001b[0m'hostname'\u001b[0m: \u001b[0m'spine00.cmh'\u001b[0m,\n",
      "             \u001b[0m'interface_list'\u001b[0m: \u001b[0m['Ethernet1', 'Ethernet2', 'Management1']\u001b[0m,\n",
      "             \u001b[0m'model'\u001b[0m: \u001b[0m'vEOS'\u001b[0m,\n",
      "             \u001b[0m'os_version'\u001b[0m: \u001b[0m'4.17.5M-4414219.4175M'\u001b[0m,\n",
      "             \u001b[0m'serial_number'\u001b[0m: \u001b[0m''\u001b[0m,\n",
      "             \u001b[0m'uptime'\u001b[0m: \u001b[0m1156\u001b[0m,\n",
      "             \u001b[0m'vendor'\u001b[0m: \u001b[0m'Arista'\u001b[0m}\u001b[0m,\n",
      "  \u001b[0m'users'\u001b[0m: \u001b[0m{\u001b[0m \u001b[0m'admin'\u001b[0m: \u001b[0m{\u001b[0m \u001b[0m'level'\u001b[0m: \u001b[0m15\u001b[0m,\n",
      "                        \u001b[0m'password'\u001b[0m: \u001b[0m''\u001b[0m,\n",
      "                        \u001b[0m'role'\u001b[0m: \u001b[0m'network-admin'\u001b[0m,\n",
      "                        \u001b[0m'sshkeys'\u001b[0m: \u001b[0m[]\u001b[0m}\u001b[0m,\n",
      "             \u001b[0m'vagrant'\u001b[0m: \u001b[0m{\u001b[0m \u001b[0m'level'\u001b[0m: \u001b[0m15\u001b[0m,\n",
      "                          \u001b[0m'password'\u001b[0m: \u001b[0m''\u001b[0m,\n",
      "                          \u001b[0m'role'\u001b[0m: \u001b[0m'network-admin'\u001b[0m,\n",
      "                          \u001b[0m'sshkeys'\u001b[0m: \u001b[0m[]\u001b[0m}\u001b[0m}\u001b[0m}\u001b[0m\n",
      "\u001b[0m\n",
      "\u001b[0m"
     ]
    }
   ],
   "source": [
    "%run get_facts.py --filter name=spine00.cmh -g facts -g users"
   ]
  },
  {
   "cell_type": "code",
   "execution_count": null,
   "metadata": {},
   "outputs": [],
   "source": []
  }
 ],
 "metadata": {
  "kernelspec": {
   "display_name": "Python 3",
   "language": "python",
   "name": "python3"
  },
  "language_info": {
   "codemirror_mode": {
    "name": "ipython",
    "version": 3
   },
   "file_extension": ".py",
   "mimetype": "text/x-python",
   "name": "python",
   "nbconvert_exporter": "python",
   "pygments_lexer": "ipython3",
   "version": "3.6.3"
  }
 },
 "nbformat": 4,
 "nbformat_minor": 2
}
